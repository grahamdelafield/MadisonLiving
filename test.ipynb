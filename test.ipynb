{
 "metadata": {
  "language_info": {
   "codemirror_mode": {
    "name": "ipython",
    "version": 3
   },
   "file_extension": ".py",
   "mimetype": "text/x-python",
   "name": "python",
   "nbconvert_exporter": "python",
   "pygments_lexer": "ipython3",
   "version": "3.8.2-final"
  },
  "orig_nbformat": 2,
  "kernelspec": {
   "name": "python_defaultSpec_1598222367250",
   "display_name": "Python 3.8.2 64-bit"
  }
 },
 "nbformat": 4,
 "nbformat_minor": 2,
 "cells": [
  {
   "cell_type": "code",
   "execution_count": 1,
   "metadata": {},
   "outputs": [],
   "source": [
    "from bs4 import BeautifulSoup\n",
    "from dataclasses import dataclass\n",
    "from time import sleep\n",
    "import pandas as pd \n",
    "import altair as alt \n",
    "import re\n",
    "import requests\n",
    "from selenium.webdriver import Chrome"
   ]
  },
  {
   "cell_type": "code",
   "execution_count": 2,
   "metadata": {},
   "outputs": [],
   "source": [
    "@dataclass\n",
    "class Property:\n",
    "    address: str\n",
    "    rent: int"
   ]
  },
  {
   "cell_type": "code",
   "execution_count": 3,
   "metadata": {
    "tags": []
   },
   "outputs": [],
   "source": [
    "url = r'https://www.apartments.com/madison-wi/?bb=wxr38t32gKv6mm81F'\n",
    "driver = Chrome()\n",
    "driver.get(url)\n",
    "sleep(5)\n",
    "\n",
    "locs = driver.find_elements_by_class_name('location')\n",
    "rents = driver.find_elements_by_class_name('altRentDisplay')\n",
    "amens = driver.find_elements_by_class_name('amenities')\n"
   ]
  },
  {
   "cell_type": "code",
   "execution_count": 18,
   "metadata": {
    "tags": []
   },
   "outputs": [
    {
     "output_type": "stream",
     "name": "stdout",
     "text": "Dog Friendly\nCat Friendly\nAir Conditioning\nWasher/Dryer - In Unit\nDishwasher\nDog Friendly\nCat Friendly\nAir Conditioning\nWasher/Dryer - In Unit\nDishwasher\nDog Friendly\nCat Friendly\nAir Conditioning\nWasher/Dryer - In Unit\nDishwasher\nDog Friendly\nCat Friendly\nAir Conditioning\nWasher/Dryer - In Unit\nDishwasher\nDog Friendly\nCat Friendly\nAir Conditioning\nWasher/Dryer - In Unit\nDishwasher\nDog Friendly\nCat Friendly\nAir Conditioning\nDishwasher\nParking\nAir Conditioning\nFitness Center\nWheelchair Access\nAir Conditioning\nWasher/Dryer - In Unit\nDishwasher\nFitness Center\nWheelchair Access\nDog Friendly\nCat Friendly\nDishwasher\nFitness Center\nDog Friendly\nCat Friendly\nAir Conditioning\nWasher/Dryer - In Unit\nDishwasher\nDog Friendly\nCat Friendly\nAir Conditioning\nWasher/Dryer - In Unit\nDishwasher\nDog Friendly\nCat Friendly\nParking\nFitness Center\nDog Friendly\nCat Friendly\nParking\nFitness Center\nDog Friendly\nCat Friendly\nAir Conditioning\nParking\nFitness Center\nAir Conditioning\nWasher/Dryer - In Unit\nDishwasher\nParking\nFitness Center\nDog Friendly\nCat Friendly\nAir Conditioning\nWasher/Dryer - In Unit\nDishwasher\nDog Friendly\nCat Friendly\nAir Conditioning\nWasher/Dryer - In Unit\nDishwasher\nAir Conditioning\nWasher/Dryer - In Unit\nDishwasher\nParking\nFitness Center\nDog Friendly\nCat Friendly\nAir Conditioning\nWasher/Dryer - In Unit\nDishwasher\nDog Friendly\nCat Friendly\nAir Conditioning\nWasher/Dryer - In Unit\nDishwasher\nDog Friendly\nCat Friendly\nAir Conditioning\nWasher/Dryer - In Unit\nDishwasher\nDog Friendly\nCat Friendly\nAir Conditioning\nWasher/Dryer - In Unit\nDishwasher\nDog Friendly\nCat Friendly\nAir Conditioning\nWasher/Dryer - In Unit\nDishwasher\nDog Friendly\nCat Friendly\nAir Conditioning\nWasher/Dryer - In Unit\nDishwasher\nCat Friendly\nAir Conditioning\nWasher/Dryer - In Unit\nDishwasher\nParking\n"
    }
   ],
   "source": [
    "for a in amens:\n",
    "    # print(a)\n",
    "    items = a.find_elements_by_tag_name('li')\n",
    "    for item in items:\n",
    "        print(item.get_attribute('title'))\n",
    "    # print(items)"
   ]
  },
  {
   "cell_type": "code",
   "execution_count": 8,
   "metadata": {
    "tags": []
   },
   "outputs": [
    {
     "output_type": "stream",
     "name": "stdout",
     "text": "$1,255 - 2,170\n$1,399 - 3,599\n$1,550 - 4,630\n$1,215 - 2,295\n$1,675 - 1,690\n$925 - 1,618\n$875 - 1,295\n$760 - 1,270\n$1,115 - 3,520\n$955 - 2,495\n$995 - 1,800\n$875 - 1,200\n$1,080 - 3,000\n$1,160 - 1,705\n$900 - 1,335\n$1,585 - 1,995\n$1,595 - 1,795\n$895 - 1,530\n$2,150 - 2,725\n$1,150 - 1,395\n$1,250 - 3,435\n$1,475 - 1,600\n$1,295 - 2,765\n$1,206 - 3,085\n$965 - 1,425\n"
    }
   ],
   "source": [
    "for l in rents:\n",
    "    print(l.text)"
   ]
  },
  {
   "cell_type": "code",
   "execution_count": null,
   "metadata": {},
   "outputs": [],
   "source": []
  }
 ]
}