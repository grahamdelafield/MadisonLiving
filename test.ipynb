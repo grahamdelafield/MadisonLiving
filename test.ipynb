{
 "metadata": {
  "language_info": {
   "codemirror_mode": {
    "name": "ipython",
    "version": 3
   },
   "file_extension": ".py",
   "mimetype": "text/x-python",
   "name": "python",
   "nbconvert_exporter": "python",
   "pygments_lexer": "ipython3",
   "version": "3.8.1-final"
  },
  "orig_nbformat": 2,
  "kernelspec": {
   "name": "python_defaultSpec_1601913014310",
   "display_name": "Python 3.8.2 64-bit"
  }
 },
 "nbformat": 4,
 "nbformat_minor": 2,
 "cells": [
  {
   "cell_type": "code",
   "execution_count": 1,
   "metadata": {},
   "outputs": [],
   "source": [
    "from bs4 import BeautifulSoup\n",
    "from dataclasses import dataclass\n",
    "from time import sleep\n",
    "from datetime import date\n",
    "import pandas as pd \n",
    "import altair as alt \n",
    "import re\n",
    "import requests\n",
    "from selenium.webdriver import Chrome\n",
    "from geopy.geocoders import Nominatim"
   ]
  },
  {
   "cell_type": "code",
   "execution_count": 5,
   "metadata": {},
   "outputs": [],
   "source": [
    "def get_page_range(element):\n",
    "    string = element.text\n",
    "    pat = re.compile(r'[0-9]')\n",
    "    m = re.match(pat, string)\n",
    "    return m"
   ]
  },
  {
   "cell_type": "code",
   "execution_count": 13,
   "metadata": {},
   "outputs": [],
   "source": [
    "# functions\n",
    "def parse_price(element, expected_length, is_range=True):\n",
    "    '''\n",
    "    Function to parse and return [low, high] value of\n",
    "    rent string.\n",
    "\n",
    "    args:   price_str (str) webscraped rent price\n",
    "            is_range  (bool) flag to indicate if ' - '\n",
    "                             needs to be removed\n",
    "    '''\n",
    "    assert isinstance(expected_length, int), 'expected_length must be type(int)'\n",
    "    assert isinstance(element, list), 'Rent must enter function as type(list)'\n",
    "\n",
    "    highs, lows = [], []\n",
    "    pat1 = re.compile(r'[\\$\\,]')\n",
    "    for r in element:\n",
    "        try:\n",
    "            price_str = r.text\n",
    "            s = re.sub(pat1, '', price_str)\n",
    "            if is_range:\n",
    "                pat2 = re.compile(r'\\s\\-\\s')\n",
    "                s = re.split(pat2, s)\n",
    "                low, high= s[0], s[1]\n",
    "                highs.append(high)\n",
    "                lows.append(low)\n",
    "                continue\n",
    "            highs.append(high)\n",
    "            lows.append(low)\n",
    "        \n",
    "        except:\n",
    "            highs.append(None)\n",
    "            lows.append(None)\n",
    "    \n",
    "    lows = fill_missing(lows, expected_length)\n",
    "    highs = fill_missing(highs, expected_length)\n",
    "    \n",
    "    return lows, highs\n",
    "\n",
    "\n",
    "def get_page_range(element_text):\n",
    "    '''\n",
    "    Function to return [first_page, last_page] of webdriver element.\n",
    "\n",
    "    args:   element_text (str) webdriver element.text\n",
    "    '''\n",
    "    assert isinstance(element_text, str), '''Function can only parse type(str)'''\n",
    "\n",
    "    pat = re.compile(r'[0-9]+')\n",
    "    matches = re.finditer(pat, element_text)\n",
    "    if matches:\n",
    "        return [int(m.group()) for m in matches]\n",
    "\n",
    "def get_amenities(amen_element, expected_length):\n",
    "    if amen_element == []:\n",
    "        return [None] * expected_length\n",
    "\n",
    "    all_amens = []\n",
    "    for a in amen_element:\n",
    "        try:\n",
    "            items = a.find_elements_by_tag_name('li')\n",
    "            amenities = [item.get_attribute('title') for item in items]\n",
    "            all_amens.append(amenities)\n",
    "\n",
    "        except:\n",
    "            all_amens.append(None)\n",
    "\n",
    "    all_amens = fill_missing(all_amens, expected_length)\n",
    "\n",
    "    return all_amens\n",
    "        \n",
    "\n",
    "def get_geoloc(loc_element, agent='googlev3', check_against=(), dist_tolerance=25.0):\n",
    "    '''\n",
    "    Function to take in location webdriver element\n",
    "    and return geo coordinates.\n",
    "\n",
    "    Function calls to package geopy, uses argument:agent,\n",
    "    and returns latitude, longitude of street address.\n",
    "\n",
    "    args:   >loc_element (list) webdriver list of locations\n",
    "            >agent (str) user agent to be passed to \n",
    "            geopy.geolocator\n",
    "            >check_against (tuple) optional argument that \n",
    "            provides lat and long coordinates as a reference\n",
    "            (i.e. the center point of a city or a capital)\n",
    "            >dist_tolerance (float): distance value (in miles)\n",
    "            a location can be from the reference coords in \n",
    "            'check_against'. If too far, function breaks.\n",
    "    '''\n",
    "\n",
    "    asrt1 = f'argument loc_element must be type(list)'\n",
    "    asrt2 = f'argument agent must be type(str)'\n",
    "    asrt3 = f'argument loc_element must be type(tuple)'\n",
    "    asrt4 = f'argument loc_element must be type(float)'\n",
    "\n",
    "    assert isinstance(loc_element, list), asrt1\n",
    "    assert isinstance(agent, str), asrt2\n",
    "    assert isinstance(check_against, tuple), asrt3\n",
    "    if isinstance(dist_tolerance, int):\n",
    "        dist_tolerance = float(dist_tolerance)\n",
    "    assert isinstance(dist_tolerance, float), asrt4\n",
    "\n",
    "    geolocator = Nominatim(user_agent=agent)\n",
    "    addresses = []\n",
    "    lats, longs = [], []\n",
    "    for loc in loc_element:\n",
    "        address = loc.get_attribute('title')\n",
    "        addresses.append(address)\n",
    "        try:\n",
    "            location = geolocator.geocode(address)\n",
    "            lati, longi = location.latitude, location.longitude\n",
    "            lats.append(lati)\n",
    "            longs.append(longi)\n",
    "        except:\n",
    "            lats.append(None)\n",
    "            longs.append(None)\n",
    "    return addresses, lats, longs\n",
    "\n",
    "def construct_frame(street_adds, lows, highs, amens, lats, longs):\n",
    "\n",
    "    if not len(street_adds)==len(lows)==len(highs)==len(amens)==len(lats)==len(longs):\n",
    "        print(f'len of street_adds = {len(street_adds)}')\n",
    "        print(f'len of lows = {len(lows)}')\n",
    "        print(f'len of highs = {len(highs)}')\n",
    "        print(f'len of amens = {len(amens)}')\n",
    "        print(f'len of lats = {len(lats)}')\n",
    "        print(f'len of longs = {len(longs)}')\n",
    "\n",
    "    today = str(date.today())\n",
    "\n",
    "    inf_dict = pd.DataFrame({\n",
    "        'query_date':[today for i in range(len(street_adds))],\n",
    "        'street_address':street_adds,\n",
    "        'rent_low':lows,\n",
    "        'rent_high':highs,\n",
    "        'latitude':lats,\n",
    "        'longitude':longs\n",
    "    })\n",
    "\n",
    "    if amens != [None] * len(street_adds):\n",
    "        amns = amens_to_dict(street_adds, amens)\n",
    "\n",
    "        df = pd.merge(left=inf_dict, left_on='street_address',\n",
    "                    right=amns, right_on='address', how='outer',\n",
    "                    right_index=False).drop('address', axis=1)\n",
    "        return df\n",
    "    return pd.DataFrame(inf_dict)\n",
    "\n",
    "def amens_to_dict(street_adds, amenities):\n",
    "    df = pd.DataFrame()\n",
    "    a_dict = {}\n",
    "    for z in zip(addresses, amenities):\n",
    "        # print(z)\n",
    "        addr = z[0]\n",
    "        amns = z[1]\n",
    "        if amns is None:\n",
    "            continue\n",
    "        a_dict['address'] = [addr]\n",
    "        for a in amns:\n",
    "            a_dict[a] = a_dict.get(a, ['Y'])\n",
    "        if df.empty:\n",
    "            df = pd.DataFrame(a_dict)\n",
    "        else:\n",
    "            df = pd.concat([df, pd.DataFrame(a_dict)])\n",
    "    return df\n",
    "\n",
    "def fill_missing(data_list, expected):\n",
    "    remaining = expected - len(data_list)\n",
    "    data_list.extend([None]*remaining)\n",
    "    return data_list\n",
    "\n",
    "def combine_dicts(a_dict, b_dict):\n",
    "    for key in b_dict:\n",
    "        a_dict[key] = b_dict.get(key, None)\n",
    "\n",
    "def pull_data(file_to_match='MadisonLiving.csv', directory='.'):\n",
    "    '''\n",
    "    Function searches through given directory to find existing data.\n",
    "\n",
    "    args:   file_to_match   (str)   Filename to look for.\n",
    "            directory       (str)   Directory to search.\n",
    "    '''\n",
    "    for root, dirs, files in os.walk(directory):\n",
    "        for file in files:\n",
    "            name = os.path.abspath(os.path.join(root, file))\n",
    "            base = os.path.basename(name)\n",
    "            if base == file_to_match:\n",
    "                return pd.read_csv(name)\n",
    "    text = [f'No existing data file found in {os.path.abspath(directory)}',\n",
    "            'Initialize new dataframe? (y/n)']\n",
    "    resp = input('\\n'.join(text)).lower()\n",
    "    if resp == 'y':\n",
    "        return pd.DataFrame()\n",
    "    if resp == 'n':\n",
    "        raise Exception"
   ]
  },
  {
   "cell_type": "code",
   "execution_count": 14,
   "metadata": {
    "tags": []
   },
   "outputs": [
    {
     "output_type": "stream",
     "name": "stdout",
     "text": "on page 1\non page 2\non page 3\non page 4\non page 5\non page 6\non page 7\non page 8\non page 9\non page 10\non page 11\non page 12\non page 13\non page 14\non page 15\non page 16\non page 17\non page 18\non page 19\non page 20\non page 21\non page 22\non page 23\non page 24\non page 25\non page 26\non page 27\non page 28\n"
    },
    {
     "output_type": "display_data",
     "data": {
      "text/plain": "      Unnamed: 0  query_date                             street_address  \\\n0            0.0  2020-08-30   1827 E Washington Ave, Madison, WI 53704   \n1            1.0  2020-08-30         622 W Wilson St, Madison, WI 53703   \n2            2.0  2020-08-30        309 W Johnson St, Madison, WI 53703   \n3            3.0  2020-08-30          1008 S Park St, Madison, WI 53715   \n4            4.0  2020-08-30  5123 Central Park Pl, Fitchburg, WI 53711   \n...          ...         ...                                        ...   \n1395         NaN  2020-09-06                          Madison, WI 53719   \n1396         NaN  2020-09-06                          Madison, WI 53716   \n1397         NaN  2020-09-06      4702 Dutch Mill Rd, Madison, WI 53716   \n1398         NaN  2020-09-06                          Madison, WI 53716   \n1399         NaN  2020-09-06                          Madison, WI 53704   \n\n     rent_low rent_high   latitude  longitude Dog Friendly Cat Friendly  \\\n0        1255      2210  43.090496 -89.360433            Y            Y   \n1        1200      2295  43.066273 -89.390348            Y            Y   \n2        1550      4630  43.074263 -89.390136            Y            Y   \n3        1399      3599  43.056685 -89.398746            Y            Y   \n4        1035      1695  43.012518 -89.394039            Y            Y   \n...       ...       ...        ...        ...          ...          ...   \n1395     None      None  43.074761 -89.383761          NaN          NaN   \n1396     None      None  43.074761 -89.383761          NaN          NaN   \n1397     None      None  43.049971 -89.301034          NaN          NaN   \n1398     None      None  43.074761 -89.383761          NaN          NaN   \n1399     None      None  43.074761 -89.383761          NaN          NaN   \n\n     Air Conditioning Washer/Dryer - In Unit Dishwasher Fitness Center  \\\n0                   Y                      Y          Y            NaN   \n1                   Y                      Y          Y            NaN   \n2                   Y                      Y          Y            NaN   \n3                   Y                      Y          Y            NaN   \n4                   Y                      Y          Y            NaN   \n...               ...                    ...        ...            ...   \n1395              NaN                    NaN        NaN            NaN   \n1396              NaN                    NaN        NaN            NaN   \n1397              NaN                    NaN        NaN            NaN   \n1398              NaN                    NaN        NaN            NaN   \n1399              NaN                    NaN        NaN            NaN   \n\n     Wheelchair Access Parking  \n0                  NaN     NaN  \n1                  NaN     NaN  \n2                  NaN     NaN  \n3                  NaN     NaN  \n4                  NaN     NaN  \n...                ...     ...  \n1395               NaN     NaN  \n1396               NaN     NaN  \n1397               NaN     NaN  \n1398               NaN     NaN  \n1399               NaN     NaN  \n\n[1400 rows x 15 columns]",
      "text/html": "<div>\n<style scoped>\n    .dataframe tbody tr th:only-of-type {\n        vertical-align: middle;\n    }\n\n    .dataframe tbody tr th {\n        vertical-align: top;\n    }\n\n    .dataframe thead th {\n        text-align: right;\n    }\n</style>\n<table border=\"1\" class=\"dataframe\">\n  <thead>\n    <tr style=\"text-align: right;\">\n      <th></th>\n      <th>Unnamed: 0</th>\n      <th>query_date</th>\n      <th>street_address</th>\n      <th>rent_low</th>\n      <th>rent_high</th>\n      <th>latitude</th>\n      <th>longitude</th>\n      <th>Dog Friendly</th>\n      <th>Cat Friendly</th>\n      <th>Air Conditioning</th>\n      <th>Washer/Dryer - In Unit</th>\n      <th>Dishwasher</th>\n      <th>Fitness Center</th>\n      <th>Wheelchair Access</th>\n      <th>Parking</th>\n    </tr>\n  </thead>\n  <tbody>\n    <tr>\n      <th>0</th>\n      <td>0.0</td>\n      <td>2020-08-30</td>\n      <td>1827 E Washington Ave, Madison, WI 53704</td>\n      <td>1255</td>\n      <td>2210</td>\n      <td>43.090496</td>\n      <td>-89.360433</td>\n      <td>Y</td>\n      <td>Y</td>\n      <td>Y</td>\n      <td>Y</td>\n      <td>Y</td>\n      <td>NaN</td>\n      <td>NaN</td>\n      <td>NaN</td>\n    </tr>\n    <tr>\n      <th>1</th>\n      <td>1.0</td>\n      <td>2020-08-30</td>\n      <td>622 W Wilson St, Madison, WI 53703</td>\n      <td>1200</td>\n      <td>2295</td>\n      <td>43.066273</td>\n      <td>-89.390348</td>\n      <td>Y</td>\n      <td>Y</td>\n      <td>Y</td>\n      <td>Y</td>\n      <td>Y</td>\n      <td>NaN</td>\n      <td>NaN</td>\n      <td>NaN</td>\n    </tr>\n    <tr>\n      <th>2</th>\n      <td>2.0</td>\n      <td>2020-08-30</td>\n      <td>309 W Johnson St, Madison, WI 53703</td>\n      <td>1550</td>\n      <td>4630</td>\n      <td>43.074263</td>\n      <td>-89.390136</td>\n      <td>Y</td>\n      <td>Y</td>\n      <td>Y</td>\n      <td>Y</td>\n      <td>Y</td>\n      <td>NaN</td>\n      <td>NaN</td>\n      <td>NaN</td>\n    </tr>\n    <tr>\n      <th>3</th>\n      <td>3.0</td>\n      <td>2020-08-30</td>\n      <td>1008 S Park St, Madison, WI 53715</td>\n      <td>1399</td>\n      <td>3599</td>\n      <td>43.056685</td>\n      <td>-89.398746</td>\n      <td>Y</td>\n      <td>Y</td>\n      <td>Y</td>\n      <td>Y</td>\n      <td>Y</td>\n      <td>NaN</td>\n      <td>NaN</td>\n      <td>NaN</td>\n    </tr>\n    <tr>\n      <th>4</th>\n      <td>4.0</td>\n      <td>2020-08-30</td>\n      <td>5123 Central Park Pl, Fitchburg, WI 53711</td>\n      <td>1035</td>\n      <td>1695</td>\n      <td>43.012518</td>\n      <td>-89.394039</td>\n      <td>Y</td>\n      <td>Y</td>\n      <td>Y</td>\n      <td>Y</td>\n      <td>Y</td>\n      <td>NaN</td>\n      <td>NaN</td>\n      <td>NaN</td>\n    </tr>\n    <tr>\n      <th>...</th>\n      <td>...</td>\n      <td>...</td>\n      <td>...</td>\n      <td>...</td>\n      <td>...</td>\n      <td>...</td>\n      <td>...</td>\n      <td>...</td>\n      <td>...</td>\n      <td>...</td>\n      <td>...</td>\n      <td>...</td>\n      <td>...</td>\n      <td>...</td>\n      <td>...</td>\n    </tr>\n    <tr>\n      <th>1395</th>\n      <td>NaN</td>\n      <td>2020-09-06</td>\n      <td>Madison, WI 53719</td>\n      <td>None</td>\n      <td>None</td>\n      <td>43.074761</td>\n      <td>-89.383761</td>\n      <td>NaN</td>\n      <td>NaN</td>\n      <td>NaN</td>\n      <td>NaN</td>\n      <td>NaN</td>\n      <td>NaN</td>\n      <td>NaN</td>\n      <td>NaN</td>\n    </tr>\n    <tr>\n      <th>1396</th>\n      <td>NaN</td>\n      <td>2020-09-06</td>\n      <td>Madison, WI 53716</td>\n      <td>None</td>\n      <td>None</td>\n      <td>43.074761</td>\n      <td>-89.383761</td>\n      <td>NaN</td>\n      <td>NaN</td>\n      <td>NaN</td>\n      <td>NaN</td>\n      <td>NaN</td>\n      <td>NaN</td>\n      <td>NaN</td>\n      <td>NaN</td>\n    </tr>\n    <tr>\n      <th>1397</th>\n      <td>NaN</td>\n      <td>2020-09-06</td>\n      <td>4702 Dutch Mill Rd, Madison, WI 53716</td>\n      <td>None</td>\n      <td>None</td>\n      <td>43.049971</td>\n      <td>-89.301034</td>\n      <td>NaN</td>\n      <td>NaN</td>\n      <td>NaN</td>\n      <td>NaN</td>\n      <td>NaN</td>\n      <td>NaN</td>\n      <td>NaN</td>\n      <td>NaN</td>\n    </tr>\n    <tr>\n      <th>1398</th>\n      <td>NaN</td>\n      <td>2020-09-06</td>\n      <td>Madison, WI 53716</td>\n      <td>None</td>\n      <td>None</td>\n      <td>43.074761</td>\n      <td>-89.383761</td>\n      <td>NaN</td>\n      <td>NaN</td>\n      <td>NaN</td>\n      <td>NaN</td>\n      <td>NaN</td>\n      <td>NaN</td>\n      <td>NaN</td>\n      <td>NaN</td>\n    </tr>\n    <tr>\n      <th>1399</th>\n      <td>NaN</td>\n      <td>2020-09-06</td>\n      <td>Madison, WI 53704</td>\n      <td>None</td>\n      <td>None</td>\n      <td>43.074761</td>\n      <td>-89.383761</td>\n      <td>NaN</td>\n      <td>NaN</td>\n      <td>NaN</td>\n      <td>NaN</td>\n      <td>NaN</td>\n      <td>NaN</td>\n      <td>NaN</td>\n      <td>NaN</td>\n    </tr>\n  </tbody>\n</table>\n<p>1400 rows × 15 columns</p>\n</div>"
     },
     "metadata": {}
    }
   ],
   "source": [
    "url = r'https://www.apartments.com/madison-wi/?bb=wxr38t32gKv6mm81F'\n",
    "# url_='https://www.apartments.com/madison-wi/3/?bb=wxr38t32gKv6mm81F'\n",
    "# page21 = 'https://www.apartments.com/madison-wi/21/?bb=wxr38t32gKv6mm81F'\n",
    "\n",
    "driver = Chrome()\n",
    "driver.get(url)\n",
    "sleep(5)\n",
    "\n",
    "num_pages = driver.find_element_by_class_name('pageRange')\n",
    "_, last_page = get_page_range(num_pages.text)\n",
    "\n",
    "store_under = 'MadisonLiving.csv'     # filename to be used for data storage/retrieval\n",
    "\n",
    "df = pull_data(file_to_match=store_under)\n",
    "\n",
    "for i in range(last_page):\n",
    "    print(f'on page {i+1}')\n",
    "    locs = driver.find_elements_by_class_name('location')\n",
    "    addresses, lats, longs = get_geoloc(locs)\n",
    "    # print(lats, longs)\n",
    "    rents = driver.find_elements_by_class_name('altRentDisplay')\n",
    "    lows, highs = parse_price(rents, len(locs))\n",
    "    # print(lows, highs)\n",
    "    amens = driver.find_elements_by_class_name('amenities')\n",
    "    amenities = get_amenities(amens, len(locs))\n",
    "    # print(amenities)\n",
    "    \n",
    "    sub = construct_frame(addresses, lows, highs, amenities, lats, longs)\n",
    "    if df.empty:\n",
    "        df = sub\n",
    "    else:\n",
    "        df = pd.concat([df, sub], ignore_index=True)\n",
    "\n",
    "    nxt_button = driver.find_element_by_class_name('next ')\n",
    "    if i == last_page - 1:      # no more pages can be found\n",
    "        break\n",
    "    nxt_button.click()\n",
    "    sleep(5)\n",
    "\n",
    "        # print(len(locs), len(rents), len(amens))\n",
    "driver.close()\n",
    "display(df)\n",
    "df.to_csv(store_under)\n",
    "\n"
   ]
  },
  {
   "cell_type": "code",
   "execution_count": 26,
   "metadata": {},
   "outputs": [],
   "source": [
    "# df = pd.read_csv('MadisonLiving.csv')\n",
    "# df = df.drop(['Unnamed: 0', 'Unnamed: 0.1'], axis=1)\n",
    "# df.to_csv('MadisonLiving.csv', index=False)\n",
    "\n"
   ]
  },
  {
   "cell_type": "code",
   "execution_count": 11,
   "metadata": {},
   "outputs": [],
   "source": [
    "df = pd.read_csv('MadisonLiving.csv')"
   ]
  },
  {
   "cell_type": "code",
   "execution_count": 13,
   "metadata": {},
   "outputs": [],
   "source": [
    "dates = df.query_date.unique()\n",
    "dates = sorted(dates, reverse=True)\n",
    "new_df = pd.DataFrame()\n",
    "for d in dates:\n",
    "    sub = df[df.query_date==d]\n",
    "    if new_df.empty:\n",
    "        new_df = sub\n",
    "    else:\n",
    "        new_df = pd.concat([new_df, sub])\n",
    "new_df.iloc[:, 2:].to_csv('MadisonLiving_.csv', index=False)"
   ]
  },
  {
   "cell_type": "code",
   "execution_count": 42,
   "metadata": {
    "tags": []
   },
   "outputs": [
    {
     "output_type": "execute_result",
     "data": {
      "text/plain": "             street_address        city state area_code  query_date  rent_low  \\\n0     1827 E Washington Ave     Madison    WI     53704  2020-08-30    1255.0   \n1           622 W Wilson St     Madison    WI     53703  2020-08-30    1200.0   \n2          309 W Johnson St     Madison    WI     53703  2020-08-30    1550.0   \n3            1008 S Park St     Madison    WI     53715  2020-08-30    1399.0   \n4      5123 Central Park Pl   Fitchburg    WI     53711  2020-08-30    1035.0   \n...                     ...         ...   ...       ...         ...       ...   \n1395                   None     Madison    WI     53719  2020-09-06       NaN   \n1396                   None     Madison    WI     53716  2020-09-06       NaN   \n1397     4702 Dutch Mill Rd     Madison    WI     53716  2020-09-06       NaN   \n1398                   None     Madison    WI     53716  2020-09-06       NaN   \n1399                   None     Madison    WI     53704  2020-09-06       NaN   \n\n      rent_high   latitude  longitude Dog Friendly Cat Friendly  \\\n0        2210.0  43.090496 -89.360433            Y            Y   \n1        2295.0  43.066273 -89.390348            Y            Y   \n2        4630.0  43.074263 -89.390136            Y            Y   \n3        3599.0  43.056685 -89.398746            Y            Y   \n4        1695.0  43.012518 -89.394039            Y            Y   \n...         ...        ...        ...          ...          ...   \n1395        NaN  43.074761 -89.383761          NaN          NaN   \n1396        NaN  43.074761 -89.383761          NaN          NaN   \n1397        NaN  43.049971 -89.301034          NaN          NaN   \n1398        NaN  43.074761 -89.383761          NaN          NaN   \n1399        NaN  43.074761 -89.383761          NaN          NaN   \n\n     Air Conditioning Washer/Dryer - In Unit Dishwasher Fitness Center  \\\n0                   Y                      Y          Y            NaN   \n1                   Y                      Y          Y            NaN   \n2                   Y                      Y          Y            NaN   \n3                   Y                      Y          Y            NaN   \n4                   Y                      Y          Y            NaN   \n...               ...                    ...        ...            ...   \n1395              NaN                    NaN        NaN            NaN   \n1396              NaN                    NaN        NaN            NaN   \n1397              NaN                    NaN        NaN            NaN   \n1398              NaN                    NaN        NaN            NaN   \n1399              NaN                    NaN        NaN            NaN   \n\n     Wheelchair Access Parking  \n0                  NaN     NaN  \n1                  NaN     NaN  \n2                  NaN     NaN  \n3                  NaN     NaN  \n4                  NaN     NaN  \n...                ...     ...  \n1395               NaN     NaN  \n1396               NaN     NaN  \n1397               NaN     NaN  \n1398               NaN     NaN  \n1399               NaN     NaN  \n\n[1400 rows x 17 columns]",
      "text/html": "<div>\n<style scoped>\n    .dataframe tbody tr th:only-of-type {\n        vertical-align: middle;\n    }\n\n    .dataframe tbody tr th {\n        vertical-align: top;\n    }\n\n    .dataframe thead th {\n        text-align: right;\n    }\n</style>\n<table border=\"1\" class=\"dataframe\">\n  <thead>\n    <tr style=\"text-align: right;\">\n      <th></th>\n      <th>street_address</th>\n      <th>city</th>\n      <th>state</th>\n      <th>area_code</th>\n      <th>query_date</th>\n      <th>rent_low</th>\n      <th>rent_high</th>\n      <th>latitude</th>\n      <th>longitude</th>\n      <th>Dog Friendly</th>\n      <th>Cat Friendly</th>\n      <th>Air Conditioning</th>\n      <th>Washer/Dryer - In Unit</th>\n      <th>Dishwasher</th>\n      <th>Fitness Center</th>\n      <th>Wheelchair Access</th>\n      <th>Parking</th>\n    </tr>\n  </thead>\n  <tbody>\n    <tr>\n      <th>0</th>\n      <td>1827 E Washington Ave</td>\n      <td>Madison</td>\n      <td>WI</td>\n      <td>53704</td>\n      <td>2020-08-30</td>\n      <td>1255.0</td>\n      <td>2210.0</td>\n      <td>43.090496</td>\n      <td>-89.360433</td>\n      <td>Y</td>\n      <td>Y</td>\n      <td>Y</td>\n      <td>Y</td>\n      <td>Y</td>\n      <td>NaN</td>\n      <td>NaN</td>\n      <td>NaN</td>\n    </tr>\n    <tr>\n      <th>1</th>\n      <td>622 W Wilson St</td>\n      <td>Madison</td>\n      <td>WI</td>\n      <td>53703</td>\n      <td>2020-08-30</td>\n      <td>1200.0</td>\n      <td>2295.0</td>\n      <td>43.066273</td>\n      <td>-89.390348</td>\n      <td>Y</td>\n      <td>Y</td>\n      <td>Y</td>\n      <td>Y</td>\n      <td>Y</td>\n      <td>NaN</td>\n      <td>NaN</td>\n      <td>NaN</td>\n    </tr>\n    <tr>\n      <th>2</th>\n      <td>309 W Johnson St</td>\n      <td>Madison</td>\n      <td>WI</td>\n      <td>53703</td>\n      <td>2020-08-30</td>\n      <td>1550.0</td>\n      <td>4630.0</td>\n      <td>43.074263</td>\n      <td>-89.390136</td>\n      <td>Y</td>\n      <td>Y</td>\n      <td>Y</td>\n      <td>Y</td>\n      <td>Y</td>\n      <td>NaN</td>\n      <td>NaN</td>\n      <td>NaN</td>\n    </tr>\n    <tr>\n      <th>3</th>\n      <td>1008 S Park St</td>\n      <td>Madison</td>\n      <td>WI</td>\n      <td>53715</td>\n      <td>2020-08-30</td>\n      <td>1399.0</td>\n      <td>3599.0</td>\n      <td>43.056685</td>\n      <td>-89.398746</td>\n      <td>Y</td>\n      <td>Y</td>\n      <td>Y</td>\n      <td>Y</td>\n      <td>Y</td>\n      <td>NaN</td>\n      <td>NaN</td>\n      <td>NaN</td>\n    </tr>\n    <tr>\n      <th>4</th>\n      <td>5123 Central Park Pl</td>\n      <td>Fitchburg</td>\n      <td>WI</td>\n      <td>53711</td>\n      <td>2020-08-30</td>\n      <td>1035.0</td>\n      <td>1695.0</td>\n      <td>43.012518</td>\n      <td>-89.394039</td>\n      <td>Y</td>\n      <td>Y</td>\n      <td>Y</td>\n      <td>Y</td>\n      <td>Y</td>\n      <td>NaN</td>\n      <td>NaN</td>\n      <td>NaN</td>\n    </tr>\n    <tr>\n      <th>...</th>\n      <td>...</td>\n      <td>...</td>\n      <td>...</td>\n      <td>...</td>\n      <td>...</td>\n      <td>...</td>\n      <td>...</td>\n      <td>...</td>\n      <td>...</td>\n      <td>...</td>\n      <td>...</td>\n      <td>...</td>\n      <td>...</td>\n      <td>...</td>\n      <td>...</td>\n      <td>...</td>\n      <td>...</td>\n    </tr>\n    <tr>\n      <th>1395</th>\n      <td>None</td>\n      <td>Madison</td>\n      <td>WI</td>\n      <td>53719</td>\n      <td>2020-09-06</td>\n      <td>NaN</td>\n      <td>NaN</td>\n      <td>43.074761</td>\n      <td>-89.383761</td>\n      <td>NaN</td>\n      <td>NaN</td>\n      <td>NaN</td>\n      <td>NaN</td>\n      <td>NaN</td>\n      <td>NaN</td>\n      <td>NaN</td>\n      <td>NaN</td>\n    </tr>\n    <tr>\n      <th>1396</th>\n      <td>None</td>\n      <td>Madison</td>\n      <td>WI</td>\n      <td>53716</td>\n      <td>2020-09-06</td>\n      <td>NaN</td>\n      <td>NaN</td>\n      <td>43.074761</td>\n      <td>-89.383761</td>\n      <td>NaN</td>\n      <td>NaN</td>\n      <td>NaN</td>\n      <td>NaN</td>\n      <td>NaN</td>\n      <td>NaN</td>\n      <td>NaN</td>\n      <td>NaN</td>\n    </tr>\n    <tr>\n      <th>1397</th>\n      <td>4702 Dutch Mill Rd</td>\n      <td>Madison</td>\n      <td>WI</td>\n      <td>53716</td>\n      <td>2020-09-06</td>\n      <td>NaN</td>\n      <td>NaN</td>\n      <td>43.049971</td>\n      <td>-89.301034</td>\n      <td>NaN</td>\n      <td>NaN</td>\n      <td>NaN</td>\n      <td>NaN</td>\n      <td>NaN</td>\n      <td>NaN</td>\n      <td>NaN</td>\n      <td>NaN</td>\n    </tr>\n    <tr>\n      <th>1398</th>\n      <td>None</td>\n      <td>Madison</td>\n      <td>WI</td>\n      <td>53716</td>\n      <td>2020-09-06</td>\n      <td>NaN</td>\n      <td>NaN</td>\n      <td>43.074761</td>\n      <td>-89.383761</td>\n      <td>NaN</td>\n      <td>NaN</td>\n      <td>NaN</td>\n      <td>NaN</td>\n      <td>NaN</td>\n      <td>NaN</td>\n      <td>NaN</td>\n      <td>NaN</td>\n    </tr>\n    <tr>\n      <th>1399</th>\n      <td>None</td>\n      <td>Madison</td>\n      <td>WI</td>\n      <td>53704</td>\n      <td>2020-09-06</td>\n      <td>NaN</td>\n      <td>NaN</td>\n      <td>43.074761</td>\n      <td>-89.383761</td>\n      <td>NaN</td>\n      <td>NaN</td>\n      <td>NaN</td>\n      <td>NaN</td>\n      <td>NaN</td>\n      <td>NaN</td>\n      <td>NaN</td>\n      <td>NaN</td>\n    </tr>\n  </tbody>\n</table>\n<p>1400 rows × 17 columns</p>\n</div>"
     },
     "metadata": {},
     "execution_count": 42
    }
   ],
   "source": [
    "df1 = df.street_address.str.split(pat=',', expand=True)\n",
    "df1.columns = ['street_address', 'city', 'area_code']\n",
    "for i, addr, city, area in df1.itertuples():\n",
    "    if len(addr.split(' '))==1:\n",
    "        df1.loc[i, 'area_code'] = df1.loc[i, 'city']\n",
    "        df1.loc[i, 'city'] = df1.loc[i, 'street_address']\n",
    "        df1.loc[i, 'street_address'] = None\n",
    "\n",
    "df2 = df1.area_code.str.split(pat=' ', expand=True)\n",
    "df1.drop('area_code', axis=1, inplace=True)\n",
    "df2.columns = ['blank', 'state', 'area_code']\n",
    "df2.drop('blank', axis=1, inplace=True)\n",
    "\n",
    "# df2.drop('blank', axis=1, inplace=True)\n",
    "\n",
    "small = df1.join(df2, how='outer')\n",
    "\n",
    "test_df = df.drop('street_address', axis=1)\n",
    "test_df = pd.merge(left=test_df, left_on=test_df.index, right=small, right_on=small.index, right_index=False)\n",
    "test_df.drop('key_0', axis=1, inplace=True)\n",
    "cols = list(test_df.columns)\n",
    "cols[:] = cols[-4:] + cols[:-4]\n",
    "test_df = test_df[cols]\n",
    "test_df\n",
    "\n",
    "\n",
    "\n",
    "# for i, addr in enumerate(df.street_address):\n",
    "#     # if i == 5:\n",
    "#     #     break\n",
    "#     s = addr.split(',')\n",
    "#     # print(s[-1].strip())\n",
    "#     if len(s) == 2:\n",
    "#         print(s)"
   ]
  },
  {
   "cell_type": "code",
   "execution_count": 55,
   "metadata": {
    "tags": []
   },
   "outputs": [
    {
     "output_type": "execute_result",
     "data": {
      "text/plain": "      street_address     city state area_code  query_date  rent_low  \\\n1398               0  Madison    WI     53716  2020-09-06       0.0   \n1399               0  Madison    WI     53704  2020-09-06       0.0   \n\n      rent_high   latitude  longitude  Dog Friendly  Cat Friendly  \\\n1398        0.0  43.074761 -89.383761             0             0   \n1399        0.0  43.074761 -89.383761             0             0   \n\n      Air Conditioning  Washer/Dryer - In Unit  Dishwasher  Fitness Center  \\\n1398                 0                       0           0               0   \n1399                 0                       0           0               0   \n\n      Wheelchair Access  Parking  \n1398                  0        0  \n1399                  0        0  ",
      "text/html": "<div>\n<style scoped>\n    .dataframe tbody tr th:only-of-type {\n        vertical-align: middle;\n    }\n\n    .dataframe tbody tr th {\n        vertical-align: top;\n    }\n\n    .dataframe thead th {\n        text-align: right;\n    }\n</style>\n<table border=\"1\" class=\"dataframe\">\n  <thead>\n    <tr style=\"text-align: right;\">\n      <th></th>\n      <th>street_address</th>\n      <th>city</th>\n      <th>state</th>\n      <th>area_code</th>\n      <th>query_date</th>\n      <th>rent_low</th>\n      <th>rent_high</th>\n      <th>latitude</th>\n      <th>longitude</th>\n      <th>Dog Friendly</th>\n      <th>Cat Friendly</th>\n      <th>Air Conditioning</th>\n      <th>Washer/Dryer - In Unit</th>\n      <th>Dishwasher</th>\n      <th>Fitness Center</th>\n      <th>Wheelchair Access</th>\n      <th>Parking</th>\n    </tr>\n  </thead>\n  <tbody>\n    <tr>\n      <th>1398</th>\n      <td>0</td>\n      <td>Madison</td>\n      <td>WI</td>\n      <td>53716</td>\n      <td>2020-09-06</td>\n      <td>0.0</td>\n      <td>0.0</td>\n      <td>43.074761</td>\n      <td>-89.383761</td>\n      <td>0</td>\n      <td>0</td>\n      <td>0</td>\n      <td>0</td>\n      <td>0</td>\n      <td>0</td>\n      <td>0</td>\n      <td>0</td>\n    </tr>\n    <tr>\n      <th>1399</th>\n      <td>0</td>\n      <td>Madison</td>\n      <td>WI</td>\n      <td>53704</td>\n      <td>2020-09-06</td>\n      <td>0.0</td>\n      <td>0.0</td>\n      <td>43.074761</td>\n      <td>-89.383761</td>\n      <td>0</td>\n      <td>0</td>\n      <td>0</td>\n      <td>0</td>\n      <td>0</td>\n      <td>0</td>\n      <td>0</td>\n      <td>0</td>\n    </tr>\n  </tbody>\n</table>\n</div>"
     },
     "metadata": {},
     "execution_count": 55
    }
   ],
   "source": [
    "d = test_df.iloc[1398:, :]\n",
    "d.fillna(0)"
   ]
  },
  {
   "cell_type": "code",
   "execution_count": 112,
   "metadata": {},
   "outputs": [
    {
     "output_type": "execute_result",
     "data": {
      "text/plain": "            street_address        city  area_code\n0    1827 E Washington Ave     Madison   WI 53704\n1          622 W Wilson St     Madison   WI 53703\n2         309 W Johnson St     Madison   WI 53703\n3           1008 S Park St     Madison   WI 53715\n4     5123 Central Park Pl   Fitchburg   WI 53711\n..                     ...         ...        ...\n695                   None     Madison   WI 53719\n696                   None     Madison   WI 53716\n697     4702 Dutch Mill Rd     Madison   WI 53716\n698                   None     Madison   WI 53716\n699                   None     Madison   WI 53704\n\n[700 rows x 3 columns]",
      "text/html": "<div>\n<style scoped>\n    .dataframe tbody tr th:only-of-type {\n        vertical-align: middle;\n    }\n\n    .dataframe tbody tr th {\n        vertical-align: top;\n    }\n\n    .dataframe thead th {\n        text-align: right;\n    }\n</style>\n<table border=\"1\" class=\"dataframe\">\n  <thead>\n    <tr style=\"text-align: right;\">\n      <th></th>\n      <th>street_address</th>\n      <th>city</th>\n      <th>area_code</th>\n    </tr>\n  </thead>\n  <tbody>\n    <tr>\n      <th>0</th>\n      <td>1827 E Washington Ave</td>\n      <td>Madison</td>\n      <td>WI 53704</td>\n    </tr>\n    <tr>\n      <th>1</th>\n      <td>622 W Wilson St</td>\n      <td>Madison</td>\n      <td>WI 53703</td>\n    </tr>\n    <tr>\n      <th>2</th>\n      <td>309 W Johnson St</td>\n      <td>Madison</td>\n      <td>WI 53703</td>\n    </tr>\n    <tr>\n      <th>3</th>\n      <td>1008 S Park St</td>\n      <td>Madison</td>\n      <td>WI 53715</td>\n    </tr>\n    <tr>\n      <th>4</th>\n      <td>5123 Central Park Pl</td>\n      <td>Fitchburg</td>\n      <td>WI 53711</td>\n    </tr>\n    <tr>\n      <th>...</th>\n      <td>...</td>\n      <td>...</td>\n      <td>...</td>\n    </tr>\n    <tr>\n      <th>695</th>\n      <td>None</td>\n      <td>Madison</td>\n      <td>WI 53719</td>\n    </tr>\n    <tr>\n      <th>696</th>\n      <td>None</td>\n      <td>Madison</td>\n      <td>WI 53716</td>\n    </tr>\n    <tr>\n      <th>697</th>\n      <td>4702 Dutch Mill Rd</td>\n      <td>Madison</td>\n      <td>WI 53716</td>\n    </tr>\n    <tr>\n      <th>698</th>\n      <td>None</td>\n      <td>Madison</td>\n      <td>WI 53716</td>\n    </tr>\n    <tr>\n      <th>699</th>\n      <td>None</td>\n      <td>Madison</td>\n      <td>WI 53704</td>\n    </tr>\n  </tbody>\n</table>\n<p>700 rows × 3 columns</p>\n</div>"
     },
     "metadata": {},
     "execution_count": 112
    }
   ],
   "source": [
    "df1"
   ]
  },
  {
   "cell_type": "code",
   "execution_count": 95,
   "metadata": {},
   "outputs": [
    {
     "output_type": "execute_result",
     "data": {
      "text/plain": "    blank state area code\n0            WI     53704\n1            WI     53703\n2            WI     53703\n3            WI     53715\n4            WI     53711\n..    ...   ...       ...\n695  None  None      None\n696  None  None      None\n697          WI     53716\n698  None  None      None\n699  None  None      None\n\n[700 rows x 3 columns]",
      "text/html": "<div>\n<style scoped>\n    .dataframe tbody tr th:only-of-type {\n        vertical-align: middle;\n    }\n\n    .dataframe tbody tr th {\n        vertical-align: top;\n    }\n\n    .dataframe thead th {\n        text-align: right;\n    }\n</style>\n<table border=\"1\" class=\"dataframe\">\n  <thead>\n    <tr style=\"text-align: right;\">\n      <th></th>\n      <th>blank</th>\n      <th>state</th>\n      <th>area code</th>\n    </tr>\n  </thead>\n  <tbody>\n    <tr>\n      <th>0</th>\n      <td></td>\n      <td>WI</td>\n      <td>53704</td>\n    </tr>\n    <tr>\n      <th>1</th>\n      <td></td>\n      <td>WI</td>\n      <td>53703</td>\n    </tr>\n    <tr>\n      <th>2</th>\n      <td></td>\n      <td>WI</td>\n      <td>53703</td>\n    </tr>\n    <tr>\n      <th>3</th>\n      <td></td>\n      <td>WI</td>\n      <td>53715</td>\n    </tr>\n    <tr>\n      <th>4</th>\n      <td></td>\n      <td>WI</td>\n      <td>53711</td>\n    </tr>\n    <tr>\n      <th>...</th>\n      <td>...</td>\n      <td>...</td>\n      <td>...</td>\n    </tr>\n    <tr>\n      <th>695</th>\n      <td>None</td>\n      <td>None</td>\n      <td>None</td>\n    </tr>\n    <tr>\n      <th>696</th>\n      <td>None</td>\n      <td>None</td>\n      <td>None</td>\n    </tr>\n    <tr>\n      <th>697</th>\n      <td></td>\n      <td>WI</td>\n      <td>53716</td>\n    </tr>\n    <tr>\n      <th>698</th>\n      <td>None</td>\n      <td>None</td>\n      <td>None</td>\n    </tr>\n    <tr>\n      <th>699</th>\n      <td>None</td>\n      <td>None</td>\n      <td>None</td>\n    </tr>\n  </tbody>\n</table>\n<p>700 rows × 3 columns</p>\n</div>"
     },
     "metadata": {},
     "execution_count": 95
    }
   ],
   "source": [
    "df2"
   ]
  },
  {
   "cell_type": "code",
   "execution_count": 56,
   "metadata": {},
   "outputs": [
    {
     "output_type": "execute_result",
     "data": {
      "text/html": "\n<div id=\"altair-viz-40fee25b019c4e4fa97b5d432a163015\"></div>\n<script type=\"text/javascript\">\n  (function(spec, embedOpt){\n    let outputDiv = document.currentScript.previousElementSibling;\n    if (outputDiv.id !== \"altair-viz-40fee25b019c4e4fa97b5d432a163015\") {\n      outputDiv = document.getElementById(\"altair-viz-40fee25b019c4e4fa97b5d432a163015\");\n    }\n    const paths = {\n      \"vega\": \"https://cdn.jsdelivr.net/npm//vega@5?noext\",\n      \"vega-lib\": \"https://cdn.jsdelivr.net/npm//vega-lib?noext\",\n      \"vega-lite\": \"https://cdn.jsdelivr.net/npm//vega-lite@4.8.1?noext\",\n      \"vega-embed\": \"https://cdn.jsdelivr.net/npm//vega-embed@6?noext\",\n    };\n\n    function loadScript(lib) {\n      return new Promise(function(resolve, reject) {\n        var s = document.createElement('script');\n        s.src = paths[lib];\n        s.async = true;\n        s.onload = () => resolve(paths[lib]);\n        s.onerror = () => reject(`Error loading script: ${paths[lib]}`);\n        document.getElementsByTagName(\"head\")[0].appendChild(s);\n      });\n    }\n\n    function showError(err) {\n      outputDiv.innerHTML = `<div class=\"error\" style=\"color:red;\">${err}</div>`;\n      throw err;\n    }\n\n    function displayChart(vegaEmbed) {\n      vegaEmbed(outputDiv, spec, embedOpt)\n        .catch(err => showError(`Javascript Error: ${err.message}<br>This usually means there's a typo in your chart specification. See the javascript console for the full traceback.`));\n    }\n\n    if(typeof define === \"function\" && define.amd) {\n      requirejs.config({paths});\n      require([\"vega-embed\"], displayChart, err => showError(`Error loading script: ${err.message}`));\n    } else if (typeof vegaEmbed === \"function\") {\n      displayChart(vegaEmbed);\n    } else {\n      loadScript(\"vega\")\n        .then(() => loadScript(\"vega-lite\"))\n        .then(() => loadScript(\"vega-embed\"))\n        .catch(showError)\n        .then(() => displayChart(vegaEmbed));\n    }\n  })({\"config\": {\"view\": {\"continuousWidth\": 400, \"continuousHeight\": 300}}, \"data\": {\"name\": \"data-9464b5d1a3f13f23d58f573b11cc0ffb\"}, \"mark\": {\"type\": \"circle\", \"size\": 3}, \"encoding\": {\"latitude\": {\"field\": \"latitude\", \"type\": \"quantitative\"}, \"longitude\": {\"field\": \"longitude\", \"type\": \"quantitative\"}}, \"projection\": {\"type\": \"mercator\"}, \"$schema\": \"https://vega.github.io/schema/vega-lite/v4.8.1.json\", \"datasets\": {\"data-9464b5d1a3f13f23d58f573b11cc0ffb\": [{\"latitude\": 55.864691552, \"longitude\": -4.435331875}, {\"latitude\": 55.866051551999995, \"longitude\": -4.435841875}, {\"latitude\": 55.867071552, \"longitude\": -4.433801875}, {\"latitude\": 55.867751552, \"longitude\": -4.429891875}, {\"latitude\": 55.869451552, \"longitude\": -4.428361875}, {\"latitude\": 55.871151552, \"longitude\": -4.427171875}, {\"latitude\": 55.873361552, \"longitude\": -4.425301875}, {\"latitude\": 55.875401552, \"longitude\": -4.421561875}, {\"latitude\": 55.876931551999995, \"longitude\": -4.418841875}, {\"latitude\": 55.877611552, \"longitude\": -4.418501875}]}}, {\"mode\": \"vega-lite\"});\n</script>",
      "text/plain": "alt.Chart(...)"
     },
     "metadata": {},
     "execution_count": 56
    }
   ],
   "source": [
    "source = alt.topo_feature(data.world_110m.url, 'countries')\n",
    "\n",
    "base = alt.Chart(source).mark_geoshape(\n",
    "    fill='#666666',\n",
    "    stroke='white'\n",
    ").properties(\n",
    "    width=300,\n",
    "    height=180\n",
    ")\n",
    "\n",
    "latitude = [55.864691552,\n",
    " 55.866051551999995,\n",
    " 55.867071552,\n",
    " 55.867751552,\n",
    " 55.869451552,\n",
    " 55.871151552,\n",
    " 55.873361552,\n",
    " 55.875401552,\n",
    " 55.876931551999995,\n",
    " 55.877611552]\n",
    "longitude = [-4.435331875,\n",
    " -4.435841875,\n",
    " -4.433801875,\n",
    " -4.429891875,\n",
    " -4.428361875,\n",
    " -4.427171875,\n",
    " -4.425301875,\n",
    " -4.421561875,\n",
    " -4.418841875,\n",
    " -4.418501875]\n",
    "\n",
    "gps_data = pd.DataFrame({\"latitude\": latitude, \"longitude\": longitude})\n",
    "\n",
    "gps = alt.Chart(gps_data).mark_circle(size=3).encode(\n",
    "    longitude='longitude:Q',\n",
    "    latitude='latitude:Q'\n",
    ").project(\n",
    "    type='mercator'\n",
    ")\n",
    "\n",
    "gps"
   ]
  },
  {
   "cell_type": "code",
   "execution_count": 3,
   "metadata": {},
   "outputs": [],
   "source": [
    "k = 'pk.eyJ1IjoiZ3JhaGFtZGVsYWZpZWxkIiwiYSI6ImNrZWgzd2dibzBtcHIydmxmc2RzY3cwbGgifQ.l7erGACRGtk9WGWcdgKC8w'"
   ]
  },
  {
   "cell_type": "code",
   "execution_count": 44,
   "metadata": {},
   "outputs": [
    {
     "output_type": "display_data",
     "data": {
      "application/vnd.plotly.v1+json": {
       "config": {
        "plotlyServerURL": "https://plot.ly"
       },
       "data": [
        {
         "hovertemplate": "latitude=%{lat}<br>longitude=%{lon}<br>rent_low=%{marker.color}<extra></extra>",
         "lat": [
          43.0904964,
          43.066272859016934,
          43.0742632,
          43.05668521428571,
          43.012518,
          43.07384051661808,
          43.074997510204106,
          43.142266300278386,
          43.057344693212436,
          null,
          43.084148235449284,
          43.07329416666667,
          43.139271,
          43.153732299999994,
          43.0502158,
          43.07753385555417,
          43.08226985714285,
          43.06253165,
          null,
          43.08247,
          43.08123795744682,
          43.091731123970916,
          43.01269027361365,
          43.051082,
          43.08409121568629,
          43.0845369,
          43.075008020408156,
          null,
          43.027649,
          43.002848014763,
          43.027649,
          43.0478947383431,
          43.137824529835044,
          43.14234068040813,
          null,
          43.020769,
          43.105031,
          null,
          43.065231523922776,
          43.104233,
          43.04088,
          null,
          43.039385317549154,
          43.14401925,
          43.01740420898981,
          43.13478385714286,
          43.06966875017968,
          43.072319252525254,
          43.07288967923694,
          43.08118433333333,
          43.075162,
          43.031909037593145,
          43.0650415,
          43.06544965000001,
          43.067182,
          43.0679764,
          43.1223123,
          43.06601910000001,
          43.072223390780344,
          43.0758139,
          43.07165365,
          43.02607800000001,
          43.022183266305284,
          42.99622,
          43.12310043096345,
          43.04729973469388,
          43.10636305087052,
          43.096001170804946,
          43.002846999999996,
          43.05222708980346,
          43.01676040269874,
          43.07366515879529,
          43.09550238709678,
          43.07929005694479,
          null,
          43.04824861731079,
          43.1537115,
          43.090208839252824,
          43.068254921785744,
          43.09812441866379,
          43.0803129062644,
          43.09620215,
          null,
          43.0757597,
          43.05102562311486,
          43.047434,
          43.15350128846542,
          43.03851382079364,
          43.08185495,
          43.05010875716507,
          43.06214815300276,
          43.13031982806551,
          43.08577385932361,
          43.07300305,
          43.05926581151302,
          43.07464336643064,
          43.10867066666666,
          null,
          43.01742,
          43.1020479,
          43.062909021346464,
          43.04513199044962,
          43.0724339,
          43.09253985,
          43.09194306122449,
          43.0922421,
          43.07867691361397,
          43.0705936019224,
          43.07571975000001,
          43.06873391836735,
          43.09353818604792,
          43.070903200000004,
          43.042307245180766,
          43.06095744966443,
          null,
          43.072807,
          43.01269027361365,
          43.03539470000001,
          43.097696899999995,
          43.0717311,
          null,
          null,
          43.13823312162466,
          null,
          43.0356521,
          43.04837319997984,
          43.07464404964594,
          43.046357799293354,
          43.08378018651155,
          null,
          43.08366690196078,
          43.06465796379505,
          43.03305630201821,
          43.07776010204081,
          43.046154612244905,
          43.036276646503445,
          43.064337628866426,
          43.07290860000001,
          43.06176918181819,
          43.08638372841692,
          43.07663220000001,
          43.07530476703832,
          43.07273273786109,
          43.03480050536187,
          43.0406713695673,
          43.067293,
          43.0916537,
          43.07705687755102,
          43.069239020408155,
          43.0717179,
          43.07477700000001,
          43.113847350075616,
          43.00224982132769,
          43.09352910000001,
          43.19368400000001,
          43.064612775510206,
          43.0874565244493,
          43.1231033975194,
          43.10335731547652,
          43.11031802040817,
          43.08748307287174,
          43.006969186810274,
          43.01840875,
          43.0820218,
          43.0012908,
          43.10178682036372,
          null,
          43.087398799999995,
          43.029792877641725,
          43.0956725,
          null,
          43.21244650000001,
          null,
          43.110105,
          43.07603732664173,
          43.081641707745284,
          43.006734200000004,
          43.17694700202156,
          43.116095341734734,
          43.0735607950679,
          42.990796,
          42.975446999999996,
          43.02998313044194,
          43.0120946,
          43.083511,
          43.1066779482079,
          43.07333481895089,
          43.0384187,
          43.07262125,
          43.08923,
          43.08593959040789,
          43.0854619644417,
          43.0502158,
          43.07539482297595,
          43.027947999999995,
          43.142169,
          null,
          43.08773400000001,
          43.03554740758243,
          43.033458828760025,
          43.078833587194225,
          43.033150840511205,
          43.04810557574535,
          43.12236559715721,
          43.0752276,
          43.072570688283214,
          43.079084714285706,
          43.08247,
          43.074760999999995,
          43.12762707448589,
          43.07812846938775,
          43.074760999999995,
          43.08445732561776,
          43.07016032620431,
          43.078795292929286,
          43.08885843618553,
          43.033776,
          43.032288,
          43.07718679598168,
          43.0752276,
          43.085537944724805,
          43.059129666666664,
          43.12027863265306,
          43.06818039040982,
          43.074760999999995,
          43.078594693877534,
          43.07748365000001,
          43.013343799999994,
          43.097270200000004,
          43.06584348322146,
          43.07512901219512,
          null,
          42.97244862577446,
          43.105659193548384,
          null,
          43.101093,
          43.10890068837056,
          43.108897487239396,
          43.104647244897954,
          43.073069,
          43.071531703412504,
          43.07869800965663,
          43.07343155,
          43.115513371130206,
          43.074760999999995,
          null,
          43.07694128571429,
          43.081615897959175,
          43.086636999999996,
          43.08739236066571
         ],
         "legendgroup": "",
         "lon": [
          -89.36043320135728,
          -89.39034837596616,
          -89.39013581031199,
          -89.39874614285715,
          -89.39403879999998,
          -89.3956954770529,
          -89.39548669387756,
          -89.28330356763298,
          -89.51759100000002,
          null,
          -89.3011596277031,
          -89.39187433333332,
          -89.282742,
          -89.2797814,
          -89.49894300000004,
          -89.37413215780118,
          -89.37913185714287,
          -89.49257174780895,
          null,
          -89.519862,
          -89.37456278723404,
          -89.35615805375828,
          -89.50231289914639,
          -89.517583,
          -89.37049877450981,
          -89.31791700000002,
          -89.39526138775507,
          null,
          -89.419167,
          -89.52954730225453,
          -89.419167,
          -89.33422835149315,
          -89.30373313587135,
          -89.30290550310062,
          null,
          -89.41678399999998,
          -89.311228,
          null,
          -89.40280458869198,
          -89.30019300000002,
          -89.39355370028332,
          null,
          -89.50316165540991,
          -89.30472110163454,
          -89.5107720144133,
          -89.3562719387755,
          -89.39142990683581,
          -89.3841183030303,
          -89.45649536814386,
          -89.37548891666668,
          -89.4686392,
          -89.526556,
          -89.39132329197662,
          -89.39044378579061,
          -89.390513,
          -89.4101198,
          -89.2822537,
          -89.39185161032832,
          -89.45628687517755,
          -89.4542124,
          -89.38659961282411,
          -89.405568,
          -89.41947077018958,
          -89.41845670000002,
          -89.46913394549419,
          -89.33007269387754,
          -89.36402107826841,
          -89.51308413394142,
          -89.529098,
          -89.51093018208793,
          -89.49720955610029,
          -89.3798935471162,
          -89.33871658064515,
          -89.38723599640915,
          null,
          -89.34335348221977,
          -89.28348299999998,
          -89.28223949049013,
          -89.53558255985789,
          -89.27962920285141,
          -89.38368220868428,
          -89.36410193066914,
          null,
          -89.3969137,
          -89.5154968336517,
          -89.00627800000002,
          -89.28387605249806,
          -89.38977724534305,
          -89.3772499907272,
          -89.46950474086832,
          -89.40094767206625,
          -89.35541728966255,
          -89.30299313002975,
          -89.42222825607817,
          -89.30916022325451,
          -89.38647092732084,
          -89.29873,
          null,
          -89.509928,
          -89.36450590146109,
          -89.52052073782158,
          -89.47335542541866,
          -89.46248235239864,
          -89.35234635,
          -89.35110040816326,
          -89.3534268,
          -89.37223939201746,
          -89.38570771644743,
          -89.46948143704168,
          -89.39044761224491,
          -89.34978585732824,
          -89.40833740000002,
          -89.50639884365404,
          -89.47257197315436,
          null,
          -89.45833499999998,
          -89.50231289914639,
          -89.380454,
          -89.3505753,
          -89.52575290000001,
          null,
          null,
          -89.38708548316328,
          null,
          -89.38225940000002,
          -89.34101138596311,
          -89.38650039098125,
          -89.49423052714273,
          -89.32304196898407,
          null,
          -89.37111328431372,
          -89.5265669238578,
          -89.36505538099901,
          -89.38418714285713,
          -89.50078823469389,
          -89.52533723266123,
          -89.45433737113358,
          -89.42354378708168,
          -89.51275136363634,
          -89.2825697728787,
          -89.39685159999998,
          -89.44432013154163,
          -89.45959616280823,
          -89.426017444104,
          -89.39718809426401,
          -89.390268,
          -89.3567607173303,
          -89.38517381632653,
          -89.4012208367347,
          -89.45961929999999,
          -89.438971,
          -89.47076232753989,
          -89.52919607964684,
          -89.52775035165291,
          -89.3182613,
          -89.32748328571428,
          -89.53331979293677,
          -89.469739709889,
          -89.49017271227731,
          -89.4747262857143,
          -89.5332956985702,
          -89.42788361465985,
          -89.42359208627022,
          -89.55310279999998,
          -89.4836454,
          -89.51151110256096,
          null,
          -89.5045926,
          -89.38446388797723,
          -89.5158718,
          null,
          -89.3245203,
          null,
          -89.479973,
          -89.54459901259257,
          -89.53659678107296,
          -89.5314684,
          -89.2855909021077,
          -89.51430702848612,
          -89.54912102422153,
          -89.52855100000002,
          -89.530831,
          -89.41456137527548,
          -89.4291458,
          -89.4347382,
          -89.34254853191774,
          -89.41662746701721,
          -89.49959770000002,
          -89.39234412979813,
          -89.28134322149795,
          -89.27979258095024,
          -89.28045768668106,
          -89.49894300000004,
          -89.37739695206949,
          -89.526475,
          -89.301152,
          null,
          -89.2819526418275,
          -89.37953665876381,
          -89.52588176051405,
          -89.51890026780262,
          -89.49536215318231,
          -89.48085612386063,
          -89.29392135217962,
          -89.45706329999999,
          -89.42345759258377,
          -89.38391465306124,
          -89.519862,
          -89.3837613,
          -89.35996572619874,
          -89.39106642857142,
          -89.3837613,
          -89.3724633096097,
          -89.38842376729185,
          -89.38094003030304,
          -89.37302412038994,
          -89.387899,
          -89.430072,
          -89.37815307773279,
          -89.45706329999999,
          -89.28102520825671,
          -89.40068983333332,
          -89.29859461224491,
          -89.38910003884878,
          -89.3837613,
          -89.37111281632652,
          -89.38165857406574,
          -89.43668689295673,
          -89.534727,
          -89.32624750335569,
          -89.5156950487805,
          null,
          -89.53647660630193,
          -89.48467193548387,
          null,
          -89.511528,
          -89.51279463265469,
          -89.51299630391756,
          -89.49371867346939,
          -89.418626,
          -89.4295232865352,
          -89.38982086506444,
          -89.43599075,
          -89.32656514489962,
          -89.3837613,
          null,
          -89.39415485714285,
          -89.5021582857143,
          -89.27987900000002,
          -89.2795830201383
         ],
         "marker": {
          "color": [
           1255,
           1200,
           1550,
           1399,
           1035,
           760,
           875,
           1075,
           1150,
           883,
           875,
           1115,
           1160,
           955,
           995,
           1206,
           2150,
           1585,
           1595,
           900,
           1245,
           1475,
           895,
           965,
           1250,
           1650,
           1015,
           950,
           850,
           1425,
           931,
           675,
           1415,
           935,
           865,
           945,
           940,
           945,
           1570,
           920,
           750,
           860,
           780,
           1189,
           1114,
           900,
           1750,
           1620,
           1595,
           1785,
           1275,
           1245,
           1585,
           1470,
           1295,
           575,
           1120,
           1595,
           1950,
           1255,
           1450,
           1000,
           855,
           1095,
           989,
           1205,
           1405,
           1149,
           970,
           815,
           935,
           1060,
           1010,
           1060,
           925,
           795,
           1015,
           1175,
           1345,
           1235,
           1100,
           899,
           799,
           690,
           905,
           840,
           999,
           725,
           1299,
           1630,
           1770,
           1200,
           890,
           900,
           785,
           850,
           1025,
           910,
           675,
           1625,
           820,
           1010,
           905,
           1230,
           1445,
           1320,
           1195,
           1465,
           1355,
           1425,
           1230,
           2150,
           1145,
           1000,
           1005,
           910,
           985,
           1000,
           1018,
           1210,
           915,
           790,
           1065,
           925,
           935,
           1005,
           1675,
           999,
           858,
           1440,
           1140,
           995,
           725,
           1800,
           715,
           995,
           1350,
           775,
           860,
           1350,
           850,
           1280,
           1070,
           860,
           675,
           1450,
           1220,
           1065,
           695,
           800,
           1275,
           750,
           949,
           1125,
           1010,
           905,
           1000,
           1612,
           915,
           775,
           1140,
           767,
           975,
           1430,
           1050,
           1040,
           925,
           849,
           858,
           1045,
           1005,
           900,
           1695,
           925,
           1085,
           1085,
           1215,
           935,
           999,
           910,
           1150,
           965,
           870,
           1040,
           1900,
           895,
           1400,
           895,
           689,
           1070,
           1220,
           1225,
           1120,
           875,
           925,
           765,
           825,
           950,
           885,
           1175,
           880,
           1170,
           1060,
           849,
           1499,
           779,
           1180,
           980,
           1170,
           725,
           765,
           759,
           1060,
           1340,
           709,
           1285,
           820,
           1695,
           1385,
           895,
           1095,
           1035,
           819,
           665,
           665,
           995,
           1095,
           935,
           1070,
           900,
           1045,
           890,
           1145,
           865,
           525,
           950,
           1185,
           861,
           1325,
           1045,
           1425,
           910,
           870,
           325,
           795,
           1250,
           500,
           1035,
           1085,
           945
          ],
          "coloraxis": "coloraxis"
         },
         "mode": "markers",
         "name": "",
         "showlegend": false,
         "subplot": "mapbox",
         "type": "scattermapbox"
        }
       ],
       "layout": {
        "coloraxis": {
         "colorbar": {
          "title": {
           "text": "rent_low"
          }
         },
         "colorscale": [
          [
           0,
           "rgb(230, 240, 240)"
          ],
          [
           0.09090909090909091,
           "rgb(191, 221, 229)"
          ],
          [
           0.18181818181818182,
           "rgb(156, 201, 226)"
          ],
          [
           0.2727272727272727,
           "rgb(129, 180, 227)"
          ],
          [
           0.36363636363636365,
           "rgb(115, 154, 228)"
          ],
          [
           0.45454545454545453,
           "rgb(117, 127, 221)"
          ],
          [
           0.5454545454545454,
           "rgb(120, 100, 202)"
          ],
          [
           0.6363636363636364,
           "rgb(119, 74, 175)"
          ],
          [
           0.7272727272727273,
           "rgb(113, 50, 141)"
          ],
          [
           0.8181818181818182,
           "rgb(100, 31, 104)"
          ],
          [
           0.9090909090909091,
           "rgb(80, 20, 66)"
          ],
          [
           1,
           "rgb(54, 14, 36)"
          ]
         ]
        },
        "legend": {
         "tracegroupgap": 0
        },
        "mapbox": {
         "accesstoken": "pk.eyJ1IjoiZ3JhaGFtZGVsYWZpZWxkIiwiYSI6ImNrZWgzd2dibzBtcHIydmxmc2RzY3cwbGgifQ.l7erGACRGtk9WGWcdgKC8w",
         "center": {
          "lat": 43.07312389003674,
          "lon": -89.41227154419462
         },
         "domain": {
          "x": [
           0,
           1
          ],
          "y": [
           0,
           1
          ]
         },
         "zoom": 10
        },
        "margin": {
         "t": 60
        },
        "template": {
         "data": {
          "bar": [
           {
            "error_x": {
             "color": "#2a3f5f"
            },
            "error_y": {
             "color": "#2a3f5f"
            },
            "marker": {
             "line": {
              "color": "#E5ECF6",
              "width": 0.5
             }
            },
            "type": "bar"
           }
          ],
          "barpolar": [
           {
            "marker": {
             "line": {
              "color": "#E5ECF6",
              "width": 0.5
             }
            },
            "type": "barpolar"
           }
          ],
          "carpet": [
           {
            "aaxis": {
             "endlinecolor": "#2a3f5f",
             "gridcolor": "white",
             "linecolor": "white",
             "minorgridcolor": "white",
             "startlinecolor": "#2a3f5f"
            },
            "baxis": {
             "endlinecolor": "#2a3f5f",
             "gridcolor": "white",
             "linecolor": "white",
             "minorgridcolor": "white",
             "startlinecolor": "#2a3f5f"
            },
            "type": "carpet"
           }
          ],
          "choropleth": [
           {
            "colorbar": {
             "outlinewidth": 0,
             "ticks": ""
            },
            "type": "choropleth"
           }
          ],
          "contour": [
           {
            "colorbar": {
             "outlinewidth": 0,
             "ticks": ""
            },
            "colorscale": [
             [
              0,
              "#0d0887"
             ],
             [
              0.1111111111111111,
              "#46039f"
             ],
             [
              0.2222222222222222,
              "#7201a8"
             ],
             [
              0.3333333333333333,
              "#9c179e"
             ],
             [
              0.4444444444444444,
              "#bd3786"
             ],
             [
              0.5555555555555556,
              "#d8576b"
             ],
             [
              0.6666666666666666,
              "#ed7953"
             ],
             [
              0.7777777777777778,
              "#fb9f3a"
             ],
             [
              0.8888888888888888,
              "#fdca26"
             ],
             [
              1,
              "#f0f921"
             ]
            ],
            "type": "contour"
           }
          ],
          "contourcarpet": [
           {
            "colorbar": {
             "outlinewidth": 0,
             "ticks": ""
            },
            "type": "contourcarpet"
           }
          ],
          "heatmap": [
           {
            "colorbar": {
             "outlinewidth": 0,
             "ticks": ""
            },
            "colorscale": [
             [
              0,
              "#0d0887"
             ],
             [
              0.1111111111111111,
              "#46039f"
             ],
             [
              0.2222222222222222,
              "#7201a8"
             ],
             [
              0.3333333333333333,
              "#9c179e"
             ],
             [
              0.4444444444444444,
              "#bd3786"
             ],
             [
              0.5555555555555556,
              "#d8576b"
             ],
             [
              0.6666666666666666,
              "#ed7953"
             ],
             [
              0.7777777777777778,
              "#fb9f3a"
             ],
             [
              0.8888888888888888,
              "#fdca26"
             ],
             [
              1,
              "#f0f921"
             ]
            ],
            "type": "heatmap"
           }
          ],
          "heatmapgl": [
           {
            "colorbar": {
             "outlinewidth": 0,
             "ticks": ""
            },
            "colorscale": [
             [
              0,
              "#0d0887"
             ],
             [
              0.1111111111111111,
              "#46039f"
             ],
             [
              0.2222222222222222,
              "#7201a8"
             ],
             [
              0.3333333333333333,
              "#9c179e"
             ],
             [
              0.4444444444444444,
              "#bd3786"
             ],
             [
              0.5555555555555556,
              "#d8576b"
             ],
             [
              0.6666666666666666,
              "#ed7953"
             ],
             [
              0.7777777777777778,
              "#fb9f3a"
             ],
             [
              0.8888888888888888,
              "#fdca26"
             ],
             [
              1,
              "#f0f921"
             ]
            ],
            "type": "heatmapgl"
           }
          ],
          "histogram": [
           {
            "marker": {
             "colorbar": {
              "outlinewidth": 0,
              "ticks": ""
             }
            },
            "type": "histogram"
           }
          ],
          "histogram2d": [
           {
            "colorbar": {
             "outlinewidth": 0,
             "ticks": ""
            },
            "colorscale": [
             [
              0,
              "#0d0887"
             ],
             [
              0.1111111111111111,
              "#46039f"
             ],
             [
              0.2222222222222222,
              "#7201a8"
             ],
             [
              0.3333333333333333,
              "#9c179e"
             ],
             [
              0.4444444444444444,
              "#bd3786"
             ],
             [
              0.5555555555555556,
              "#d8576b"
             ],
             [
              0.6666666666666666,
              "#ed7953"
             ],
             [
              0.7777777777777778,
              "#fb9f3a"
             ],
             [
              0.8888888888888888,
              "#fdca26"
             ],
             [
              1,
              "#f0f921"
             ]
            ],
            "type": "histogram2d"
           }
          ],
          "histogram2dcontour": [
           {
            "colorbar": {
             "outlinewidth": 0,
             "ticks": ""
            },
            "colorscale": [
             [
              0,
              "#0d0887"
             ],
             [
              0.1111111111111111,
              "#46039f"
             ],
             [
              0.2222222222222222,
              "#7201a8"
             ],
             [
              0.3333333333333333,
              "#9c179e"
             ],
             [
              0.4444444444444444,
              "#bd3786"
             ],
             [
              0.5555555555555556,
              "#d8576b"
             ],
             [
              0.6666666666666666,
              "#ed7953"
             ],
             [
              0.7777777777777778,
              "#fb9f3a"
             ],
             [
              0.8888888888888888,
              "#fdca26"
             ],
             [
              1,
              "#f0f921"
             ]
            ],
            "type": "histogram2dcontour"
           }
          ],
          "mesh3d": [
           {
            "colorbar": {
             "outlinewidth": 0,
             "ticks": ""
            },
            "type": "mesh3d"
           }
          ],
          "parcoords": [
           {
            "line": {
             "colorbar": {
              "outlinewidth": 0,
              "ticks": ""
             }
            },
            "type": "parcoords"
           }
          ],
          "pie": [
           {
            "automargin": true,
            "type": "pie"
           }
          ],
          "scatter": [
           {
            "marker": {
             "colorbar": {
              "outlinewidth": 0,
              "ticks": ""
             }
            },
            "type": "scatter"
           }
          ],
          "scatter3d": [
           {
            "line": {
             "colorbar": {
              "outlinewidth": 0,
              "ticks": ""
             }
            },
            "marker": {
             "colorbar": {
              "outlinewidth": 0,
              "ticks": ""
             }
            },
            "type": "scatter3d"
           }
          ],
          "scattercarpet": [
           {
            "marker": {
             "colorbar": {
              "outlinewidth": 0,
              "ticks": ""
             }
            },
            "type": "scattercarpet"
           }
          ],
          "scattergeo": [
           {
            "marker": {
             "colorbar": {
              "outlinewidth": 0,
              "ticks": ""
             }
            },
            "type": "scattergeo"
           }
          ],
          "scattergl": [
           {
            "marker": {
             "colorbar": {
              "outlinewidth": 0,
              "ticks": ""
             }
            },
            "type": "scattergl"
           }
          ],
          "scattermapbox": [
           {
            "marker": {
             "colorbar": {
              "outlinewidth": 0,
              "ticks": ""
             }
            },
            "type": "scattermapbox"
           }
          ],
          "scatterpolar": [
           {
            "marker": {
             "colorbar": {
              "outlinewidth": 0,
              "ticks": ""
             }
            },
            "type": "scatterpolar"
           }
          ],
          "scatterpolargl": [
           {
            "marker": {
             "colorbar": {
              "outlinewidth": 0,
              "ticks": ""
             }
            },
            "type": "scatterpolargl"
           }
          ],
          "scatterternary": [
           {
            "marker": {
             "colorbar": {
              "outlinewidth": 0,
              "ticks": ""
             }
            },
            "type": "scatterternary"
           }
          ],
          "surface": [
           {
            "colorbar": {
             "outlinewidth": 0,
             "ticks": ""
            },
            "colorscale": [
             [
              0,
              "#0d0887"
             ],
             [
              0.1111111111111111,
              "#46039f"
             ],
             [
              0.2222222222222222,
              "#7201a8"
             ],
             [
              0.3333333333333333,
              "#9c179e"
             ],
             [
              0.4444444444444444,
              "#bd3786"
             ],
             [
              0.5555555555555556,
              "#d8576b"
             ],
             [
              0.6666666666666666,
              "#ed7953"
             ],
             [
              0.7777777777777778,
              "#fb9f3a"
             ],
             [
              0.8888888888888888,
              "#fdca26"
             ],
             [
              1,
              "#f0f921"
             ]
            ],
            "type": "surface"
           }
          ],
          "table": [
           {
            "cells": {
             "fill": {
              "color": "#EBF0F8"
             },
             "line": {
              "color": "white"
             }
            },
            "header": {
             "fill": {
              "color": "#C8D4E3"
             },
             "line": {
              "color": "white"
             }
            },
            "type": "table"
           }
          ]
         },
         "layout": {
          "annotationdefaults": {
           "arrowcolor": "#2a3f5f",
           "arrowhead": 0,
           "arrowwidth": 1
          },
          "coloraxis": {
           "colorbar": {
            "outlinewidth": 0,
            "ticks": ""
           }
          },
          "colorscale": {
           "diverging": [
            [
             0,
             "#8e0152"
            ],
            [
             0.1,
             "#c51b7d"
            ],
            [
             0.2,
             "#de77ae"
            ],
            [
             0.3,
             "#f1b6da"
            ],
            [
             0.4,
             "#fde0ef"
            ],
            [
             0.5,
             "#f7f7f7"
            ],
            [
             0.6,
             "#e6f5d0"
            ],
            [
             0.7,
             "#b8e186"
            ],
            [
             0.8,
             "#7fbc41"
            ],
            [
             0.9,
             "#4d9221"
            ],
            [
             1,
             "#276419"
            ]
           ],
           "sequential": [
            [
             0,
             "#0d0887"
            ],
            [
             0.1111111111111111,
             "#46039f"
            ],
            [
             0.2222222222222222,
             "#7201a8"
            ],
            [
             0.3333333333333333,
             "#9c179e"
            ],
            [
             0.4444444444444444,
             "#bd3786"
            ],
            [
             0.5555555555555556,
             "#d8576b"
            ],
            [
             0.6666666666666666,
             "#ed7953"
            ],
            [
             0.7777777777777778,
             "#fb9f3a"
            ],
            [
             0.8888888888888888,
             "#fdca26"
            ],
            [
             1,
             "#f0f921"
            ]
           ],
           "sequentialminus": [
            [
             0,
             "#0d0887"
            ],
            [
             0.1111111111111111,
             "#46039f"
            ],
            [
             0.2222222222222222,
             "#7201a8"
            ],
            [
             0.3333333333333333,
             "#9c179e"
            ],
            [
             0.4444444444444444,
             "#bd3786"
            ],
            [
             0.5555555555555556,
             "#d8576b"
            ],
            [
             0.6666666666666666,
             "#ed7953"
            ],
            [
             0.7777777777777778,
             "#fb9f3a"
            ],
            [
             0.8888888888888888,
             "#fdca26"
            ],
            [
             1,
             "#f0f921"
            ]
           ]
          },
          "colorway": [
           "#636efa",
           "#EF553B",
           "#00cc96",
           "#ab63fa",
           "#FFA15A",
           "#19d3f3",
           "#FF6692",
           "#B6E880",
           "#FF97FF",
           "#FECB52"
          ],
          "font": {
           "color": "#2a3f5f"
          },
          "geo": {
           "bgcolor": "white",
           "lakecolor": "white",
           "landcolor": "#E5ECF6",
           "showlakes": true,
           "showland": true,
           "subunitcolor": "white"
          },
          "hoverlabel": {
           "align": "left"
          },
          "hovermode": "closest",
          "mapbox": {
           "style": "light"
          },
          "paper_bgcolor": "white",
          "plot_bgcolor": "#E5ECF6",
          "polar": {
           "angularaxis": {
            "gridcolor": "white",
            "linecolor": "white",
            "ticks": ""
           },
           "bgcolor": "#E5ECF6",
           "radialaxis": {
            "gridcolor": "white",
            "linecolor": "white",
            "ticks": ""
           }
          },
          "scene": {
           "xaxis": {
            "backgroundcolor": "#E5ECF6",
            "gridcolor": "white",
            "gridwidth": 2,
            "linecolor": "white",
            "showbackground": true,
            "ticks": "",
            "zerolinecolor": "white"
           },
           "yaxis": {
            "backgroundcolor": "#E5ECF6",
            "gridcolor": "white",
            "gridwidth": 2,
            "linecolor": "white",
            "showbackground": true,
            "ticks": "",
            "zerolinecolor": "white"
           },
           "zaxis": {
            "backgroundcolor": "#E5ECF6",
            "gridcolor": "white",
            "gridwidth": 2,
            "linecolor": "white",
            "showbackground": true,
            "ticks": "",
            "zerolinecolor": "white"
           }
          },
          "shapedefaults": {
           "line": {
            "color": "#2a3f5f"
           }
          },
          "ternary": {
           "aaxis": {
            "gridcolor": "white",
            "linecolor": "white",
            "ticks": ""
           },
           "baxis": {
            "gridcolor": "white",
            "linecolor": "white",
            "ticks": ""
           },
           "bgcolor": "#E5ECF6",
           "caxis": {
            "gridcolor": "white",
            "linecolor": "white",
            "ticks": ""
           }
          },
          "title": {
           "x": 0.05
          },
          "xaxis": {
           "automargin": true,
           "gridcolor": "white",
           "linecolor": "white",
           "ticks": "",
           "title": {
            "standoff": 15
           },
           "zerolinecolor": "white",
           "zerolinewidth": 2
          },
          "yaxis": {
           "automargin": true,
           "gridcolor": "white",
           "linecolor": "white",
           "ticks": "",
           "title": {
            "standoff": 15
           },
           "zerolinecolor": "white",
           "zerolinewidth": 2
          }
         }
        }
       }
      }
     },
     "metadata": {}
    }
   ],
   "source": [
    "import plotly.express as px\n",
    "px.set_mapbox_access_token(k)\n",
    "\n",
    "df = pd.read_csv('MadisonLiving.csv')\n",
    "df = df[df.query_date == '2020-08-30']\n",
    "df.loc[:, 'rent_high'] = df.rent_high.fillna(0)\n",
    "df.loc[:, 'rent_low'] = df.rent_low.fillna(0) \n",
    "df = df[df.rent_high != 0]\n",
    "\n",
    "fig = px.scatter_mapbox(df, lat=\"latitude\", lon=\"longitude\", color='rent_low',\n",
    "                        color_continuous_scale=px.colors.sequential.dense,\n",
    "                        size_max=15, zoom=10,)\n",
    "fig.show()"
   ]
  },
  {
   "cell_type": "code",
   "execution_count": 23,
   "metadata": {},
   "outputs": [],
   "source": []
  },
  {
   "cell_type": "code",
   "execution_count": 24,
   "metadata": {},
   "outputs": [],
   "source": []
  },
  {
   "cell_type": "code",
   "execution_count": null,
   "metadata": {},
   "outputs": [],
   "source": []
  }
 ]
}